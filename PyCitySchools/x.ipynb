{
 "cells": [
  {
   "cell_type": "code",
   "execution_count": null,
   "metadata": {},
   "outputs": [],
   "source": [
    "spending_summary = pd.MultiIndex([('Average Math Score', spending_math_scores),\n",
    "                                 ('Average Reading Score', spending_reading_scores),\n",
    "                                 ('% Passing Math', spending_passing_math),\n",
    "                                 ('% Passing Reading', spending_passing_reading),\n",
    "                                 ('% Overall Passing', overall_passing_spending)], names=[\"<$585\", \"$585-630\", \"$630-645\", \"$645-680\"])"
   ]
  },
  {
   "cell_type": "code",
   "execution_count": null,
   "metadata": {},
   "outputs": [],
   "source": [
    "size_summary = pd.MultiIndex([('Average Math Score', [spending_math_scores]),\n",
    "                                 ('Average Reading Score', spending_reading_scores),\n",
    "                                 ('% Passing Math', spending_passing_math),\n",
    "                                 ('% Passing Reading', spending_passing_reading),\n",
    "                                 ('% Overall Passing', overall_passing_spending)], names=[\"Small (<1000)\", \"Medium (1000-2000)"
   ]
  }
 ],
 "metadata": {
  "language_info": {
   "name": "python"
  },
  "orig_nbformat": 4
 },
 "nbformat": 4,
 "nbformat_minor": 2
}
