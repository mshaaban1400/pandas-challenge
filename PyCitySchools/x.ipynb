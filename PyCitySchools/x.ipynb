{
 "cells": [
  {
   "cell_type": "code",
   "execution_count": null,
   "metadata": {},
   "outputs": [],
   "source": [
    "spending_summary = pd.MultiIndex([('Average Math Score', spending_math_scores),\n",
    "                                 ('Average Reading Score', spending_reading_scores),\n",
    "                                 ('% Passing Math', spending_passing_math),\n",
    "                                 ('% Passing Reading', spending_passing_reading),\n",
    "                                 ('% Overall Passing', overall_passing_spending)], names=[\"<$585\", \"$585-630\", \"$630-645\", \"$645-680\"])"
   ]
  },
  {
   "cell_type": "code",
   "execution_count": null,
   "metadata": {},
   "outputs": [],
   "source": [
    "size_summary = pd.MultiIndex([('Average Math Score', [spending_math_scores]),\n",
    "                                 ('Average Reading Score', spending_reading_scores),\n",
    "                                 ('% Passing Math', spending_passing_math),\n",
    "                                 ('% Passing Reading', spending_passing_reading),\n",
    "                                 ('% Overall Passing', overall_passing_spending)], names=[\"Small (<1000)\", \"Medium (1000-2000)"
   ]
  },
  {
   "cell_type": "code",
   "execution_count": null,
   "metadata": {},
   "outputs": [],
   "source": [
    "# convert all numbers to int64\n",
    "spending_df[spending_df.columns[1:]] = spending_df[spending_df.columns[1:]].replace('[\\$,]', '', regex=True).astype(float)"
   ]
  },
  {
   "cell_type": "code",
   "execution_count": null,
   "metadata": {},
   "outputs": [],
   "source": [
    "per_school_summary = per_school_summary[['% Passing Math', '% Passing Reading', '% Passing Overall']].astype('int')\n",
    "per_school_summary"
   ]
  },
  {
   "cell_type": "code",
   "execution_count": null,
   "metadata": {},
   "outputs": [],
   "source": [
    "spending_df.dtypes"
   ]
  },
  {
   "cell_type": "code",
   "execution_count": null,
   "metadata": {},
   "outputs": [],
   "source": [
    "# Formatting\n",
    "per_school_summary['Total School Budget'] = per_school_summary['Total School Budget'].map('${:,.2f}'.format)\n",
    "per_school_summary['Per Student Budget'] = per_school_summary['Per Student Budget'].map('${:,.2f}'.format)\n",
    "per_school_summary['Average Math Score Per School'] = per_school_summary['Average Math Score Per School'].map('{:,.0f}'.format)\n",
    "per_school_summary['Average Reading Score Per School'] = per_school_summary['Average Reading Score Per School'].map('{:,.0f}'.format)\n",
    "per_school_summary['% Passing Math'] = per_school_summary['% Passing Math'].map('%{:,.0f}'.format)\n",
    "per_school_summary['% Passing Reading'] = per_school_summary['% Passing Reading'].map('%{:,.0f}'.format)\n",
    "per_school_summary['% Passing Overall'] = per_school_summary['% Passing Overall'].map('%{:,.0f}'.format)"
   ]
  },
  {
   "cell_type": "code",
   "execution_count": null,
   "metadata": {},
   "outputs": [],
   "source": [
    ".mean()).map('{:,.0f}'.format)"
   ]
  },
  {
   "cell_type": "code",
   "execution_count": null,
   "metadata": {},
   "outputs": [],
   "source": []
  }
 ],
 "metadata": {
  "language_info": {
   "name": "python"
  },
  "orig_nbformat": 4
 },
 "nbformat": 4,
 "nbformat_minor": 2
}
